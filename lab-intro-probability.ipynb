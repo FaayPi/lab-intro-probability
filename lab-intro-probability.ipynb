{
 "cells": [
  {
   "cell_type": "markdown",
   "metadata": {},
   "source": [
    "# Lab | Intro to Probability"
   ]
  },
  {
   "cell_type": "markdown",
   "metadata": {},
   "source": [
    "**Objective**\n",
    "\n",
    "Welcome to this Intro to Probability lab, where we explore decision-making scenarios through the lens of probability and strategic analysis. In the business world, making informed decisions is crucial, especially when faced with uncertainties. This lab focuses on scenarios where probabilistic outcomes play a significant role in shaping strategies and outcomes. Students will engage in exercises that require assessing and choosing optimal paths based on data-driven insights. The goal is to enhance your skills by applying probability concepts to solve real-world problems."
   ]
  },
  {
   "cell_type": "markdown",
   "metadata": {},
   "source": [
    "**Challenge 1**"
   ]
  },
  {
   "cell_type": "markdown",
   "metadata": {},
   "source": [
    "#### Ironhack Airlines \n",
    "\n",
    "Often Airlines sell more tickets than they have seats available, this is called overbooking. Consider the following:\n",
    "- A plane has 450 seats. \n",
    "- Based on historical data we conclude that each individual passenger has a 3% chance of missing it's flight. \n",
    "\n",
    "If the Ironhack Airlines routinely sells 460 tickets, what is the chance that they have a seats for all passenger?"
   ]
  },
  {
   "cell_type": "code",
   "execution_count": 1,
   "metadata": {},
   "outputs": [
    {
     "name": "stdout",
     "output_type": "stream",
     "text": [
      "Probability that 450 or fewer passengers show up: 0.8845\n"
     ]
    }
   ],
   "source": [
    "#code here\n",
    "\n",
    "from scipy.stats import binom\n",
    "\n",
    "# Parameter\n",
    "n = 460          # tickets sold\n",
    "p = 0.97         # probability that a passenger shows up\n",
    "k = 450          # number of seats\n",
    "\n",
    "# Calculate the probability that 450 or fewer passengers show up\n",
    "prob = binom.cdf(k, n, p)\n",
    "\n",
    "print(f\"Probability that 450 or fewer passengers show up: {prob:.4f}\")\n"
   ]
  },
  {
   "cell_type": "markdown",
   "metadata": {},
   "source": [
    "**Challenge 2**"
   ]
  },
  {
   "cell_type": "markdown",
   "metadata": {},
   "source": []
  },
  {
   "cell_type": "markdown",
   "metadata": {},
   "source": [
    "#### Ironhack Call Center "
   ]
  },
  {
   "cell_type": "markdown",
   "metadata": {},
   "source": [
    "Suppose a customer service representative at a call center is handling customer complaints. Consider the following:\n",
    "- The probability of successfully resolving a customer complaint on the first attempt is 0.3. \n",
    "\n",
    "\n",
    "What is the probability that the representative needs to make at least three attempts before successfully resolving a customer complaint?"
   ]
  },
  {
   "cell_type": "code",
   "execution_count": null,
   "metadata": {},
   "outputs": [],
   "source": [
    "#code here\n",
    "\n",
    "p = 0.7 * 0.7 = 0.49"
   ]
  },
  {
   "cell_type": "markdown",
   "metadata": {},
   "source": [
    "**Challenge 3**"
   ]
  },
  {
   "cell_type": "markdown",
   "metadata": {},
   "source": [
    "#### Ironhack Website"
   ]
  },
  {
   "cell_type": "markdown",
   "metadata": {},
   "source": [
    "Consider a scenario related to Ironhack website traffic. Where:\n",
    "- our website takes on average 500 visits per hour.\n",
    "- the website's server is designed to handle up to 550 vists per hour.\n",
    "\n",
    "\n",
    "What is the probability of the website server being overwhelmed?"
   ]
  },
  {
   "cell_type": "code",
   "execution_count": 3,
   "metadata": {},
   "outputs": [
    {
     "name": "stdout",
     "output_type": "stream",
     "text": [
      "Wahrscheinlichkeit, dass der Server überlastet wird: 0.0129\n"
     ]
    }
   ],
   "source": [
    "#code here\n",
    "\n",
    "from scipy.stats import poisson\n",
    "\n",
    "# Parameter\n",
    "rate = 500\n",
    "threshold = 550\n",
    "\n",
    "# Wahrscheinlichkeit, dass X > 550\n",
    "# = 1 - P(X <= 550)\n",
    "prob_overwhelmed = 1 - poisson.cdf(threshold, rate)\n",
    "\n",
    "print(f\"Wahrscheinlichkeit, dass der Server überlastet wird: {prob_overwhelmed:.4f}\")\n"
   ]
  },
  {
   "cell_type": "markdown",
   "metadata": {},
   "source": [
    "What is the probability of being overwhelmed at some point during a day? (consider 24hours)"
   ]
  },
  {
   "cell_type": "code",
   "execution_count": 4,
   "metadata": {},
   "outputs": [
    {
     "name": "stdout",
     "output_type": "stream",
     "text": [
      "Wahrscheinlichkeit, dass der Server mindestens einmal überlastet wird: 0.2497\n"
     ]
    }
   ],
   "source": [
    "#code here\n",
    "# Gegebene Wahrscheinlichkeit pro Stunde\n",
    "p_hourly = 0.0119\n",
    "\n",
    "# Anzahl der Stunden pro Tag\n",
    "hours_per_day = 24\n",
    "\n",
    "# Wahrscheinlichkeit, dass der Server NICHT überlastet wird in einer Stunde\n",
    "p_not_overwhelmed_hourly = 1 - p_hourly\n",
    "\n",
    "# Wahrscheinlichkeit, dass er in KEINER der 24 Stunden überlastet wird\n",
    "p_not_overwhelmed_all_day = p_not_overwhelmed_hourly ** hours_per_day\n",
    "\n",
    "# Gegenwahrscheinlichkeit: mindestens einmal überlastet\n",
    "p_overwhelmed_at_least_once = 1 - p_not_overwhelmed_all_day\n",
    "\n",
    "# Ausgabe\n",
    "print(f\"Wahrscheinlichkeit, dass der Server mindestens einmal überlastet wird: {p_overwhelmed_at_least_once:.4f}\")\n"
   ]
  },
  {
   "cell_type": "markdown",
   "metadata": {},
   "source": [
    "**Challenge 4**"
   ]
  },
  {
   "cell_type": "markdown",
   "metadata": {},
   "source": [
    "#### Ironhack Helpdesk"
   ]
  },
  {
   "cell_type": "markdown",
   "metadata": {},
   "source": [
    "Consider a scenario related to the time between arrivals of customers at a service desk.\n",
    "\n",
    "On average, a customers arrives every 10minutes.\n",
    "\n",
    "What is the probability that the next customer will arrive within the next 5 minutes?"
   ]
  },
  {
   "cell_type": "code",
   "execution_count": 5,
   "metadata": {},
   "outputs": [
    {
     "name": "stdout",
     "output_type": "stream",
     "text": [
      "Wahrscheinlichkeit, dass der nächste Kunde innerhalb von 5 Minuten kommt: 0.3935\n"
     ]
    }
   ],
   "source": [
    "rate_customer_minute = 0.1\n",
    "\n",
    "import math\n",
    "\n",
    "t = 5  # Zeitintervall in Minuten\n",
    "\n",
    "# Exponentialverteilung: P(T <= t) = 1 - e^(-λ * t)\n",
    "prob_within_5_min = 1 - math.exp(-rate_customer_minute * t)\n",
    "\n",
    "print(f\"Wahrscheinlichkeit, dass der nächste Kunde innerhalb von 5 Minuten kommt: {prob_within_5_min:.4f}\")\n"
   ]
  },
  {
   "cell_type": "markdown",
   "metadata": {},
   "source": [
    "If there is no customer for 15minutes, employees can that a 5minutes break.\n",
    "\n",
    "What is the probability an employee taking a break?"
   ]
  },
  {
   "cell_type": "code",
   "execution_count": 7,
   "metadata": {},
   "outputs": [
    {
     "name": "stdout",
     "output_type": "stream",
     "text": [
      "Wahrscheinlichkeit, dass ein Mitarbeiter eine Pause machen kann: 0.2231\n"
     ]
    }
   ],
   "source": [
    "import math\n",
    "\n",
    "lambda_rate = 1 / 10  # 0.1 pro Minute\n",
    "t = 15  # Minuten ohne Kunden\n",
    "\n",
    "# P(T > 15) = e^(-λ * t)\n",
    "prob_break = math.exp(-lambda_rate * t)\n",
    "\n",
    "print(f\"Wahrscheinlichkeit, dass ein Mitarbeiter eine Pause machen kann: {prob_break:.4f}\")\n"
   ]
  },
  {
   "cell_type": "markdown",
   "metadata": {},
   "source": [
    "**Challenge 5**"
   ]
  },
  {
   "cell_type": "markdown",
   "metadata": {},
   "source": [
    "The weights of a certain species of birds follow a normal distribution with a mean weight of 150 grams and a standard deviation of 10 grams. \n",
    "\n",
    "- If we randomly select a bird, what is the probability that its weight is between 140 and 160 grams?"
   ]
  },
  {
   "cell_type": "code",
   "execution_count": 10,
   "metadata": {},
   "outputs": [
    {
     "name": "stdout",
     "output_type": "stream",
     "text": [
      "Wahrscheinlichkeit, dass ein Vogel zwischen 140g und 160g wiegt: 0.6827\n"
     ]
    }
   ],
   "source": [
    "from scipy.stats import norm\n",
    "\n",
    "# Parameter der Normalverteilung\n",
    "mu = 150  # Mittelwert\n",
    "sigma = 10  # Standardabweichung\n",
    "\n",
    "# Wahrscheinlichkeiten berechnen\n",
    "prob = norm.cdf(160, mu, sigma) - norm.cdf(140, mu, sigma)\n",
    "\n",
    "print(f\"Wahrscheinlichkeit, dass ein Vogel zwischen 140g und 160g wiegt: {prob:.4f}\")\n"
   ]
  },
  {
   "cell_type": "markdown",
   "metadata": {},
   "source": [
    "**Challenge 6**"
   ]
  },
  {
   "cell_type": "markdown",
   "metadata": {},
   "source": [
    "If the lifetime (in hours) of a certain electronic component follows an exponential distribution with a mean lifetime of 50 hours, what is the probability that the component fails within the first 30 hours?"
   ]
  },
  {
   "cell_type": "code",
   "execution_count": 11,
   "metadata": {},
   "outputs": [
    {
     "name": "stdout",
     "output_type": "stream",
     "text": [
      "Wahrscheinlichkeit, dass die Komponente in den ersten 30 Stunden ausfällt: 0.4512\n"
     ]
    }
   ],
   "source": [
    "import math\n",
    "\n",
    "# Parameter\n",
    "lambda_rate = 1 / 50  # Rate-Parameter\n",
    "t = 30  # Zeitintervall\n",
    "\n",
    "# Exponentielle CDF: P(T <= t) = 1 - e^(-λ * t)\n",
    "prob_ausfall_in_30_stunden = 1 - math.exp(-lambda_rate * t)\n",
    "\n",
    "print(f\"Wahrscheinlichkeit, dass die Komponente in den ersten 30 Stunden ausfällt: {prob_ausfall_in_30_stunden:.4f}\")\n"
   ]
  }
 ],
 "metadata": {
  "kernelspec": {
   "display_name": "Python 3",
   "language": "python",
   "name": "python3"
  },
  "language_info": {
   "codemirror_mode": {
    "name": "ipython",
    "version": 3
   },
   "file_extension": ".py",
   "mimetype": "text/x-python",
   "name": "python",
   "nbconvert_exporter": "python",
   "pygments_lexer": "ipython3",
   "version": "3.13.1"
  }
 },
 "nbformat": 4,
 "nbformat_minor": 2
}
